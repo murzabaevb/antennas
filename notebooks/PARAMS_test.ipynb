{
 "cells": [
  {
   "cell_type": "code",
   "execution_count": 68,
   "id": "05b0e8da-f3ee-4283-8c7b-e868dad1ac96",
   "metadata": {},
   "outputs": [],
   "source": [
    "PARAMS = {\n",
    "    # Operating frequency (MHz)\n",
    "    'oper_freq_mhz': {\n",
    "        'category': 'mandatory',\n",
    "        'type': (int, float),\n",
    "        'range': (100, 86000),\n",
    "    },\n",
    "\n",
    "    # Antenna diameter (m)\n",
    "    'diameter_m': {\n",
    "        'category': 'optional',\n",
    "        'type': (int, float),\n",
    "        'range': (0.001, 99.999),\n",
    "    },\n",
    "\n",
    "    # Maximum main-lobe antenna gain (dBi)\n",
    "    'max_gain_dbi': {\n",
    "        'category': 'optional',\n",
    "        'type': (int, float),\n",
    "        'range': (-29.9, 89.9),\n",
    "    },\n",
    "\n",
    "    # 3dB beamwidth (degrees)\n",
    "    'beamwidth_deg': {\n",
    "        'category': 'optional',\n",
    "        'type': (int, float),\n",
    "        'range': (0.001, 179.999),\n",
    "    },\n",
    "}\n"
   ]
  },
  {
   "cell_type": "code",
   "execution_count": 69,
   "id": "35cacb0b-e599-411e-bc2f-5bfd28853604",
   "metadata": {},
   "outputs": [],
   "source": [
    "    def set_params(user_params):\n",
    "        \"\"\"Validate and set parameters according to PARAMS.\"\"\"\n",
    "        validated_params = {}  # Reset params before setting\n",
    "\n",
    "        for param, rules in PARAMS.items():\n",
    "            value = user_params.get(param)\n",
    "\n",
    "            # Handle Mandatory\n",
    "            if rules['category'] == 'mandatory' and value is None:\n",
    "                raise ValueError(f\"Missing required parameter '{param}'\")\n",
    "\n",
    "            # Handle Optional\n",
    "            if rules['category'] == 'optional' and value is None:\n",
    "                continue  # If not provided, it remains unset\n",
    "\n",
    "            # Handle Conditional\n",
    "            if rules['category'] == 'conditional' and 'depends_on' in rules:\n",
    "                for dep_param, dep_check in rules['depends_on'].items():\n",
    "                    dep_value = user_params.get(dep_param)\n",
    "\n",
    "                    # If dependency is a lambda, evaluate the condition\n",
    "                    if callable(dep_check):\n",
    "                        if not dep_check(dep_value):\n",
    "                            continue  # Dependency not met, so skip validation\n",
    "                    else:\n",
    "                        if dep_value != dep_check:\n",
    "                            continue  # Dependency not met, so skip validation\n",
    "\n",
    "                    # If we reach this point, the dependency is satisfied, so we need to validate the parameter\n",
    "                    if value is None:\n",
    "                        raise ValueError(\n",
    "                            f\"Missing required parameter '{param}' because '{dep_param}' is set to '{dep_value}'\")\n",
    "\n",
    "            # Type Check\n",
    "            if 'type' in rules and value is not None and not isinstance(value, rules['type']):\n",
    "                raise TypeError(f\"'{param}' must be of type {rules['type']} but got {type(value)}\")\n",
    "\n",
    "            # Range Check\n",
    "            if 'range' in rules and value is not None and not (rules['range'][0] <= value <= rules['range'][1]):\n",
    "                raise ValueError(f\"'{param}' must be in range {rules['range']} but got {value}\")\n",
    "\n",
    "            # Allowed Values Check\n",
    "            if 'allowed' in rules and value is not None and value not in rules['allowed']:\n",
    "                raise ValueError(f\"'{param}' must be one of {rules['allowed']} but got '{value}'\")\n",
    "\n",
    "            # Store validated parameter\n",
    "            validated_params[param] = value\n",
    "\n",
    "        return validated_params"
   ]
  },
  {
   "cell_type": "code",
   "execution_count": 70,
   "id": "1d00775e-8590-4323-ab50-9ff9710762a8",
   "metadata": {},
   "outputs": [
    {
     "name": "stdout",
     "output_type": "stream",
     "text": [
      "✅ Valid Test Passed. Result: {'oper_freq_mhz': 23000, 'beamwidth_deg': 14}\n"
     ]
    }
   ],
   "source": [
    "user_params = {\n",
    "    'oper_freq_mhz': 23000, \n",
    "    #'max_gain_dbi': 45, \n",
    "    #'diameter_m': 5, \n",
    "    'beamwidth_deg': 14,\n",
    "}\n",
    "\n",
    "try:\n",
    "    result = set_params(user_params)\n",
    "    print(\"✅ Valid Test Passed. Result:\", result)\n",
    "except Exception as e:\n",
    "    print(f\"❌ Valid Test Failed. Error: {e}\")\n"
   ]
  },
  {
   "cell_type": "code",
   "execution_count": null,
   "id": "96b6bfb0-df1e-4c25-9fe2-08a702d363f6",
   "metadata": {},
   "outputs": [],
   "source": []
  }
 ],
 "metadata": {
  "kernelspec": {
   "display_name": "cst",
   "language": "python",
   "name": "cst"
  },
  "language_info": {
   "codemirror_mode": {
    "name": "ipython",
    "version": 3
   },
   "file_extension": ".py",
   "mimetype": "text/x-python",
   "name": "python",
   "nbconvert_exporter": "python",
   "pygments_lexer": "ipython3",
   "version": "3.12.3"
  }
 },
 "nbformat": 4,
 "nbformat_minor": 5
}
